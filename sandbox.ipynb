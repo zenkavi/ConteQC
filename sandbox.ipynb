{
 "cells": [
  {
   "cell_type": "code",
   "execution_count": 1,
   "metadata": {},
   "outputs": [],
   "source": [
    "import nibabel as nib\n",
    "import numpy as np\n",
    "import os\n",
    "from os import path\n",
    "import pandas as pd\n",
    "from scipy.spatial import distance_matrix\n",
    "from sklearn.cluster import DBSCAN\n",
    "import sys\n",
    "from zipfile import ZipFile"
   ]
  },
  {
   "cell_type": "code",
   "execution_count": 2,
   "metadata": {},
   "outputs": [],
   "source": [
    "from fsedit_notes_helpers import get_diff_data, summarize_edits, get_bm_edits, get_wm_edits, get_cp_edits, get_bfs_edits"
   ]
  },
  {
   "cell_type": "code",
   "execution_count": 3,
   "metadata": {},
   "outputs": [],
   "source": [
    "subnum = 'CC0142'\n",
    "typ = 'wm'\n",
    "basedir='/Users/zeynepenkavi/Downloads/ConteQC'\n",
    "outdir='/Users/zeynepenkavi/Downloads/ConteQC'"
   ]
  },
  {
   "cell_type": "code",
   "execution_count": 4,
   "metadata": {},
   "outputs": [],
   "source": [
    "editp = path.join(basedir, 'sub-'+subnum)\n",
    "uneditp = path.join(basedir, 'sub-'+subnum+'_unedited')\n",
    "typ_dict = {'bm': 'brainmask', 'wm': 'wm', 'bfs': 'brain.finalsurfs', 'cp': 'control.dat'}\n",
    "vol = typ_dict[typ]"
   ]
  },
  {
   "cell_type": "code",
   "execution_count": 8,
   "metadata": {},
   "outputs": [
    {
     "data": {
      "text/html": [
       "<div>\n",
       "<style scoped>\n",
       "    .dataframe tbody tr th:only-of-type {\n",
       "        vertical-align: middle;\n",
       "    }\n",
       "\n",
       "    .dataframe tbody tr th {\n",
       "        vertical-align: top;\n",
       "    }\n",
       "\n",
       "    .dataframe thead th {\n",
       "        text-align: right;\n",
       "    }\n",
       "</style>\n",
       "<table border=\"1\" class=\"dataframe\">\n",
       "  <thead>\n",
       "    <tr style=\"text-align: right;\">\n",
       "      <th></th>\n",
       "      <th>cluster</th>\n",
       "      <th>min_sag</th>\n",
       "      <th>max_sag</th>\n",
       "      <th>min_axe</th>\n",
       "      <th>max_axe</th>\n",
       "      <th>min_cor</th>\n",
       "      <th>max_cor</th>\n",
       "      <th>num_vox</th>\n",
       "      <th>vol</th>\n",
       "      <th>action</th>\n",
       "    </tr>\n",
       "  </thead>\n",
       "  <tbody>\n",
       "    <tr>\n",
       "      <th>0</th>\n",
       "      <td>-1</td>\n",
       "      <td>187</td>\n",
       "      <td>189</td>\n",
       "      <td>144</td>\n",
       "      <td>146</td>\n",
       "      <td>110</td>\n",
       "      <td>114</td>\n",
       "      <td>4</td>\n",
       "      <td>wm</td>\n",
       "      <td>add voxel</td>\n",
       "    </tr>\n",
       "    <tr>\n",
       "      <th>1</th>\n",
       "      <td>0</td>\n",
       "      <td>83</td>\n",
       "      <td>93</td>\n",
       "      <td>138</td>\n",
       "      <td>145</td>\n",
       "      <td>54</td>\n",
       "      <td>67</td>\n",
       "      <td>12</td>\n",
       "      <td>wm</td>\n",
       "      <td>add voxel</td>\n",
       "    </tr>\n",
       "    <tr>\n",
       "      <th>2</th>\n",
       "      <td>1</td>\n",
       "      <td>151</td>\n",
       "      <td>155</td>\n",
       "      <td>125</td>\n",
       "      <td>129</td>\n",
       "      <td>133</td>\n",
       "      <td>135</td>\n",
       "      <td>7</td>\n",
       "      <td>wm</td>\n",
       "      <td>add voxel</td>\n",
       "    </tr>\n",
       "    <tr>\n",
       "      <th>3</th>\n",
       "      <td>2</td>\n",
       "      <td>106</td>\n",
       "      <td>116</td>\n",
       "      <td>122</td>\n",
       "      <td>128</td>\n",
       "      <td>134</td>\n",
       "      <td>143</td>\n",
       "      <td>19</td>\n",
       "      <td>wm</td>\n",
       "      <td>add voxel</td>\n",
       "    </tr>\n",
       "    <tr>\n",
       "      <th>0</th>\n",
       "      <td>-1</td>\n",
       "      <td>93</td>\n",
       "      <td>140</td>\n",
       "      <td>124</td>\n",
       "      <td>144</td>\n",
       "      <td>55</td>\n",
       "      <td>141</td>\n",
       "      <td>4</td>\n",
       "      <td>wm</td>\n",
       "      <td>delete voxel</td>\n",
       "    </tr>\n",
       "    <tr>\n",
       "      <th>1</th>\n",
       "      <td>0</td>\n",
       "      <td>83</td>\n",
       "      <td>90</td>\n",
       "      <td>135</td>\n",
       "      <td>140</td>\n",
       "      <td>63</td>\n",
       "      <td>67</td>\n",
       "      <td>43</td>\n",
       "      <td>wm</td>\n",
       "      <td>delete voxel</td>\n",
       "    </tr>\n",
       "    <tr>\n",
       "      <th>2</th>\n",
       "      <td>1</td>\n",
       "      <td>186</td>\n",
       "      <td>190</td>\n",
       "      <td>144</td>\n",
       "      <td>145</td>\n",
       "      <td>110</td>\n",
       "      <td>114</td>\n",
       "      <td>16</td>\n",
       "      <td>wm</td>\n",
       "      <td>delete voxel</td>\n",
       "    </tr>\n",
       "    <tr>\n",
       "      <th>3</th>\n",
       "      <td>2</td>\n",
       "      <td>150</td>\n",
       "      <td>156</td>\n",
       "      <td>126</td>\n",
       "      <td>131</td>\n",
       "      <td>133</td>\n",
       "      <td>136</td>\n",
       "      <td>53</td>\n",
       "      <td>wm</td>\n",
       "      <td>delete voxel</td>\n",
       "    </tr>\n",
       "    <tr>\n",
       "      <th>4</th>\n",
       "      <td>3</td>\n",
       "      <td>106</td>\n",
       "      <td>115</td>\n",
       "      <td>121</td>\n",
       "      <td>128</td>\n",
       "      <td>134</td>\n",
       "      <td>142</td>\n",
       "      <td>67</td>\n",
       "      <td>wm</td>\n",
       "      <td>delete voxel</td>\n",
       "    </tr>\n",
       "  </tbody>\n",
       "</table>\n",
       "</div>"
      ],
      "text/plain": [
       "   cluster  min_sag  max_sag  min_axe  max_axe  min_cor  max_cor  num_vox vol  \\\n",
       "0       -1      187      189      144      146      110      114        4  wm   \n",
       "1        0       83       93      138      145       54       67       12  wm   \n",
       "2        1      151      155      125      129      133      135        7  wm   \n",
       "3        2      106      116      122      128      134      143       19  wm   \n",
       "0       -1       93      140      124      144       55      141        4  wm   \n",
       "1        0       83       90      135      140       63       67       43  wm   \n",
       "2        1      186      190      144      145      110      114       16  wm   \n",
       "3        2      150      156      126      131      133      136       53  wm   \n",
       "4        3      106      115      121      128      134      142       67  wm   \n",
       "\n",
       "         action  \n",
       "0     add voxel  \n",
       "1     add voxel  \n",
       "2     add voxel  \n",
       "3     add voxel  \n",
       "0  delete voxel  \n",
       "1  delete voxel  \n",
       "2  delete voxel  \n",
       "3  delete voxel  \n",
       "4  delete voxel  "
      ]
     },
     "execution_count": 8,
     "metadata": {},
     "output_type": "execute_result"
    }
   ],
   "source": [
    "get_wm_edits(editp, uneditp, vol, subnum)"
   ]
  },
  {
   "cell_type": "code",
   "execution_count": 7,
   "metadata": {},
   "outputs": [],
   "source": [
    "tmp = get_diff_data(editp, uneditp, vol, subnum)\n",
    "cur_diff_data = tmp.query(\"Action=='add voxel'\")"
   ]
  },
  {
   "cell_type": "code",
   "execution_count": 24,
   "metadata": {},
   "outputs": [
    {
     "data": {
      "text/plain": [
       "(42, 5)"
      ]
     },
     "execution_count": 24,
     "metadata": {},
     "output_type": "execute_result"
    }
   ],
   "source": [
    "cur_diff_data.shape"
   ]
  },
  {
   "cell_type": "code",
   "execution_count": null,
   "metadata": {},
   "outputs": [],
   "source": []
  },
  {
   "cell_type": "code",
   "execution_count": 20,
   "metadata": {},
   "outputs": [],
   "source": [
    "edit_img = nib.load(path.join(editp,'mri/%s.mgz')%(vol))\n",
    "edit_data = edit_img.get_fdata()\n",
    "unedit_img = nib.load(path.join(uneditp,'sub-%s/mri/%s.mgz')%(subnum, vol))\n",
    "unedit_data = unedit_img.get_fdata()\n",
    "diff_data = unedit_data - edit_data\n",
    "    \n",
    "# Extract non-zero values from difference data and arrange in df\n",
    "out = pd.DataFrame(np.asarray(np.asarray(diff_data != 0).nonzero()).T).rename(columns={0:\"Sag\", 1:\"Axe\", 2:\"Cor\"})\n",
    "out['diff_val'] = diff_data[np.where(diff_data != 0)]"
   ]
  },
  {
   "cell_type": "code",
   "execution_count": 21,
   "metadata": {},
   "outputs": [],
   "source": [
    "out['Action'] = np.where(out.diff_val>0, \"delete voxel\", \"add voxel\")"
   ]
  },
  {
   "cell_type": "code",
   "execution_count": 26,
   "metadata": {},
   "outputs": [
    {
     "data": {
      "text/html": [
       "<div>\n",
       "<style scoped>\n",
       "    .dataframe tbody tr th:only-of-type {\n",
       "        vertical-align: middle;\n",
       "    }\n",
       "\n",
       "    .dataframe tbody tr th {\n",
       "        vertical-align: top;\n",
       "    }\n",
       "\n",
       "    .dataframe thead th {\n",
       "        text-align: right;\n",
       "    }\n",
       "</style>\n",
       "<table border=\"1\" class=\"dataframe\">\n",
       "  <thead>\n",
       "    <tr style=\"text-align: right;\">\n",
       "      <th></th>\n",
       "      <th>Sag</th>\n",
       "      <th>Axe</th>\n",
       "      <th>Cor</th>\n",
       "      <th>diff_val</th>\n",
       "      <th>Action</th>\n",
       "    </tr>\n",
       "  </thead>\n",
       "  <tbody>\n",
       "    <tr>\n",
       "      <th>0</th>\n",
       "      <td>83</td>\n",
       "      <td>136</td>\n",
       "      <td>66</td>\n",
       "      <td>94.0</td>\n",
       "      <td>delete voxel</td>\n",
       "    </tr>\n",
       "    <tr>\n",
       "      <th>1</th>\n",
       "      <td>83</td>\n",
       "      <td>137</td>\n",
       "      <td>66</td>\n",
       "      <td>97.0</td>\n",
       "      <td>delete voxel</td>\n",
       "    </tr>\n",
       "    <tr>\n",
       "      <th>2</th>\n",
       "      <td>83</td>\n",
       "      <td>137</td>\n",
       "      <td>67</td>\n",
       "      <td>93.0</td>\n",
       "      <td>delete voxel</td>\n",
       "    </tr>\n",
       "    <tr>\n",
       "      <th>3</th>\n",
       "      <td>83</td>\n",
       "      <td>138</td>\n",
       "      <td>66</td>\n",
       "      <td>98.0</td>\n",
       "      <td>delete voxel</td>\n",
       "    </tr>\n",
       "    <tr>\n",
       "      <th>4</th>\n",
       "      <td>83</td>\n",
       "      <td>138</td>\n",
       "      <td>67</td>\n",
       "      <td>94.0</td>\n",
       "      <td>delete voxel</td>\n",
       "    </tr>\n",
       "    <tr>\n",
       "      <th>...</th>\n",
       "      <td>...</td>\n",
       "      <td>...</td>\n",
       "      <td>...</td>\n",
       "      <td>...</td>\n",
       "      <td>...</td>\n",
       "    </tr>\n",
       "    <tr>\n",
       "      <th>219</th>\n",
       "      <td>189</td>\n",
       "      <td>145</td>\n",
       "      <td>111</td>\n",
       "      <td>88.0</td>\n",
       "      <td>delete voxel</td>\n",
       "    </tr>\n",
       "    <tr>\n",
       "      <th>220</th>\n",
       "      <td>189</td>\n",
       "      <td>145</td>\n",
       "      <td>112</td>\n",
       "      <td>91.0</td>\n",
       "      <td>delete voxel</td>\n",
       "    </tr>\n",
       "    <tr>\n",
       "      <th>221</th>\n",
       "      <td>189</td>\n",
       "      <td>145</td>\n",
       "      <td>113</td>\n",
       "      <td>93.0</td>\n",
       "      <td>delete voxel</td>\n",
       "    </tr>\n",
       "    <tr>\n",
       "      <th>222</th>\n",
       "      <td>189</td>\n",
       "      <td>145</td>\n",
       "      <td>114</td>\n",
       "      <td>93.0</td>\n",
       "      <td>delete voxel</td>\n",
       "    </tr>\n",
       "    <tr>\n",
       "      <th>224</th>\n",
       "      <td>190</td>\n",
       "      <td>145</td>\n",
       "      <td>114</td>\n",
       "      <td>92.0</td>\n",
       "      <td>delete voxel</td>\n",
       "    </tr>\n",
       "  </tbody>\n",
       "</table>\n",
       "<p>183 rows × 5 columns</p>\n",
       "</div>"
      ],
      "text/plain": [
       "     Sag  Axe  Cor  diff_val        Action\n",
       "0     83  136   66      94.0  delete voxel\n",
       "1     83  137   66      97.0  delete voxel\n",
       "2     83  137   67      93.0  delete voxel\n",
       "3     83  138   66      98.0  delete voxel\n",
       "4     83  138   67      94.0  delete voxel\n",
       "..   ...  ...  ...       ...           ...\n",
       "219  189  145  111      88.0  delete voxel\n",
       "220  189  145  112      91.0  delete voxel\n",
       "221  189  145  113      93.0  delete voxel\n",
       "222  189  145  114      93.0  delete voxel\n",
       "224  190  145  114      92.0  delete voxel\n",
       "\n",
       "[183 rows x 5 columns]"
      ]
     },
     "execution_count": 26,
     "metadata": {},
     "output_type": "execute_result"
    }
   ],
   "source": [
    "out.query(\"diff_val != -1\")"
   ]
  },
  {
   "cell_type": "code",
   "execution_count": 27,
   "metadata": {},
   "outputs": [
    {
     "data": {
      "text/html": [
       "<div>\n",
       "<style scoped>\n",
       "    .dataframe tbody tr th:only-of-type {\n",
       "        vertical-align: middle;\n",
       "    }\n",
       "\n",
       "    .dataframe tbody tr th {\n",
       "        vertical-align: top;\n",
       "    }\n",
       "\n",
       "    .dataframe thead th {\n",
       "        text-align: right;\n",
       "    }\n",
       "</style>\n",
       "<table border=\"1\" class=\"dataframe\">\n",
       "  <thead>\n",
       "    <tr style=\"text-align: right;\">\n",
       "      <th></th>\n",
       "      <th>Sag</th>\n",
       "      <th>Axe</th>\n",
       "      <th>Cor</th>\n",
       "      <th>diff_val</th>\n",
       "      <th>Action</th>\n",
       "    </tr>\n",
       "  </thead>\n",
       "  <tbody>\n",
       "    <tr>\n",
       "      <th>0</th>\n",
       "      <td>83</td>\n",
       "      <td>136</td>\n",
       "      <td>66</td>\n",
       "      <td>94.0</td>\n",
       "      <td>delete voxel</td>\n",
       "    </tr>\n",
       "    <tr>\n",
       "      <th>1</th>\n",
       "      <td>83</td>\n",
       "      <td>137</td>\n",
       "      <td>66</td>\n",
       "      <td>97.0</td>\n",
       "      <td>delete voxel</td>\n",
       "    </tr>\n",
       "    <tr>\n",
       "      <th>2</th>\n",
       "      <td>83</td>\n",
       "      <td>137</td>\n",
       "      <td>67</td>\n",
       "      <td>93.0</td>\n",
       "      <td>delete voxel</td>\n",
       "    </tr>\n",
       "    <tr>\n",
       "      <th>3</th>\n",
       "      <td>83</td>\n",
       "      <td>138</td>\n",
       "      <td>66</td>\n",
       "      <td>98.0</td>\n",
       "      <td>delete voxel</td>\n",
       "    </tr>\n",
       "    <tr>\n",
       "      <th>4</th>\n",
       "      <td>83</td>\n",
       "      <td>138</td>\n",
       "      <td>67</td>\n",
       "      <td>94.0</td>\n",
       "      <td>delete voxel</td>\n",
       "    </tr>\n",
       "    <tr>\n",
       "      <th>...</th>\n",
       "      <td>...</td>\n",
       "      <td>...</td>\n",
       "      <td>...</td>\n",
       "      <td>...</td>\n",
       "      <td>...</td>\n",
       "    </tr>\n",
       "    <tr>\n",
       "      <th>220</th>\n",
       "      <td>189</td>\n",
       "      <td>145</td>\n",
       "      <td>112</td>\n",
       "      <td>91.0</td>\n",
       "      <td>delete voxel</td>\n",
       "    </tr>\n",
       "    <tr>\n",
       "      <th>221</th>\n",
       "      <td>189</td>\n",
       "      <td>145</td>\n",
       "      <td>113</td>\n",
       "      <td>93.0</td>\n",
       "      <td>delete voxel</td>\n",
       "    </tr>\n",
       "    <tr>\n",
       "      <th>222</th>\n",
       "      <td>189</td>\n",
       "      <td>145</td>\n",
       "      <td>114</td>\n",
       "      <td>93.0</td>\n",
       "      <td>delete voxel</td>\n",
       "    </tr>\n",
       "    <tr>\n",
       "      <th>223</th>\n",
       "      <td>189</td>\n",
       "      <td>146</td>\n",
       "      <td>114</td>\n",
       "      <td>-1.0</td>\n",
       "      <td>add voxel</td>\n",
       "    </tr>\n",
       "    <tr>\n",
       "      <th>224</th>\n",
       "      <td>190</td>\n",
       "      <td>145</td>\n",
       "      <td>114</td>\n",
       "      <td>92.0</td>\n",
       "      <td>delete voxel</td>\n",
       "    </tr>\n",
       "  </tbody>\n",
       "</table>\n",
       "<p>225 rows × 5 columns</p>\n",
       "</div>"
      ],
      "text/plain": [
       "     Sag  Axe  Cor  diff_val        Action\n",
       "0     83  136   66      94.0  delete voxel\n",
       "1     83  137   66      97.0  delete voxel\n",
       "2     83  137   67      93.0  delete voxel\n",
       "3     83  138   66      98.0  delete voxel\n",
       "4     83  138   67      94.0  delete voxel\n",
       "..   ...  ...  ...       ...           ...\n",
       "220  189  145  112      91.0  delete voxel\n",
       "221  189  145  113      93.0  delete voxel\n",
       "222  189  145  114      93.0  delete voxel\n",
       "223  189  146  114      -1.0     add voxel\n",
       "224  190  145  114      92.0  delete voxel\n",
       "\n",
       "[225 rows x 5 columns]"
      ]
     },
     "execution_count": 27,
     "metadata": {},
     "output_type": "execute_result"
    }
   ],
   "source": [
    "out"
   ]
  },
  {
   "cell_type": "code",
   "execution_count": null,
   "metadata": {},
   "outputs": [],
   "source": []
  },
  {
   "cell_type": "code",
   "execution_count": null,
   "metadata": {},
   "outputs": [],
   "source": [
    "dm = distance_matrix(cur_diff_data.loc[:,('Sag', 'Axe', 'Cor')], cur_diff_data.loc[:,('Sag', 'Axe', 'Cor')])"
   ]
  },
  {
   "cell_type": "code",
   "execution_count": null,
   "metadata": {},
   "outputs": [],
   "source": [
    "clustering = DBSCAN(eps=50, min_samples=5).fit(dm)"
   ]
  },
  {
   "cell_type": "code",
   "execution_count": null,
   "metadata": {},
   "outputs": [],
   "source": [
    "list(clustering.labels_)"
   ]
  },
  {
   "cell_type": "code",
   "execution_count": null,
   "metadata": {},
   "outputs": [],
   "source": [
    "#cur_diff_data['cluster'] = list(clustering.labels_)\n",
    "cur_diff_data.insert(0, \"cluster\", list(clustering.labels_), True)"
   ]
  },
  {
   "cell_type": "code",
   "execution_count": null,
   "metadata": {},
   "outputs": [],
   "source": [
    "cur_diff_data"
   ]
  },
  {
   "cell_type": "code",
   "execution_count": null,
   "metadata": {},
   "outputs": [],
   "source": [
    "summarize_edits(tmp)"
   ]
  },
  {
   "cell_type": "code",
   "execution_count": null,
   "metadata": {},
   "outputs": [],
   "source": [
    "get_bm_edits(editp, uneditp, vol, subnum)"
   ]
  },
  {
   "cell_type": "code",
   "execution_count": null,
   "metadata": {},
   "outputs": [],
   "source": [
    "typ = \"cp\"\n",
    "vol = typ_dict[typ]\n",
    "get_cp_edits(editp, uneditp, vol, subnum)"
   ]
  },
  {
   "cell_type": "code",
   "execution_count": null,
   "metadata": {},
   "outputs": [],
   "source": [
    "typ = \"bfs\"\n",
    "vol = typ_dict[typ]\n",
    "get_bfs_edits(editp, uneditp, vol, subnum)"
   ]
  },
  {
   "cell_type": "code",
   "execution_count": null,
   "metadata": {},
   "outputs": [],
   "source": [
    "fn_dict = {'bm': get_bm_edits, 'wm': get_wm_edits, 'cp': get_cp_edits, 'bfs': get_bfs_edits}\n",
    "typ = \"all\"\n",
    "if typ == 'all':\n",
    "    out = pd.DataFrame()\n",
    "    # loop through function lookup dictionary and run all edit extraction functions\n",
    "    for k,v in fn_dict.items():\n",
    "        vol = typ_dict[k]\n",
    "        out = out.append(v(editp=editp, uneditp=uneditp, vol=vol, subnum=subnum))"
   ]
  },
  {
   "cell_type": "code",
   "execution_count": null,
   "metadata": {},
   "outputs": [],
   "source": [
    "pd.set_option('display.max_rows', None)"
   ]
  },
  {
   "cell_type": "code",
   "execution_count": null,
   "metadata": {},
   "outputs": [],
   "source": [
    "out"
   ]
  },
  {
   "cell_type": "code",
   "execution_count": null,
   "metadata": {},
   "outputs": [],
   "source": [
    "import shutil"
   ]
  },
  {
   "cell_type": "code",
   "execution_count": null,
   "metadata": {},
   "outputs": [],
   "source": [
    "from os import path"
   ]
  },
  {
   "cell_type": "code",
   "execution_count": null,
   "metadata": {},
   "outputs": [],
   "source": [
    "subnum = 'CC0076_core1'\n",
    "basedir='/Users/zeynepenkavi/Downloads/ConteQC'\n",
    "uneditp = path.join(basedir, 'sub-'+subnum+'_unedited')\n",
    "shutil.rmtree(uneditp)"
   ]
  },
  {
   "cell_type": "markdown",
   "metadata": {},
   "source": [
    "To do still: \n",
    "\n",
    "next step i need to do: \n",
    "refine previous editsm  \n",
    "\n",
    "can this be useful for that?  \n",
    "could at least run all subjects through this and see if i've missed writing down any edits i've made  \n",
    "\n",
    "how should i go about refining edits?\n",
    "go over mike's reports and compare for each subject how different i am from dorit/mike\n",
    "run their edited images (taken from box) through \n",
    "\n",
    "so timeline:  \n",
    "run all subjects through this and see if you've missed recording any edits\n",
    "move onto refinement of previous edits:\n",
    "    -download dorit's edits from box and make difference images for \n",
    "    -overlay original, my edits difference image, dorit's difference image in freeview and scroll through\n",
    "move onto editing new subjects"
   ]
  },
  {
   "cell_type": "code",
   "execution_count": null,
   "metadata": {},
   "outputs": [],
   "source": []
  }
 ],
 "metadata": {
  "kernelspec": {
   "display_name": "Python 3",
   "language": "python",
   "name": "python3"
  },
  "language_info": {
   "codemirror_mode": {
    "name": "ipython",
    "version": 3
   },
   "file_extension": ".py",
   "mimetype": "text/x-python",
   "name": "python",
   "nbconvert_exporter": "python",
   "pygments_lexer": "ipython3",
   "version": "3.7.2"
  }
 },
 "nbformat": 4,
 "nbformat_minor": 4
}
