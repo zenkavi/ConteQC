{
 "cells": [
  {
   "cell_type": "code",
   "execution_count": 1,
   "metadata": {},
   "outputs": [],
   "source": [
    "import nibabel as nib\n",
    "import numpy as np\n",
    "import os\n",
    "from os import path\n",
    "import pandas as pd\n",
    "from scipy.spatial import distance_matrix\n",
    "from sklearn.cluster import DBSCAN\n",
    "import sys\n",
    "from zipfile import ZipFile"
   ]
  },
  {
   "cell_type": "code",
   "execution_count": 2,
   "metadata": {},
   "outputs": [],
   "source": [
    "from fsedit_notes_helpers import get_diff_data, summarize_edits, get_bm_edits, get_wm_edits, get_cp_edits, get_bfs_edits"
   ]
  },
  {
   "cell_type": "code",
   "execution_count": 3,
   "metadata": {},
   "outputs": [],
   "source": [
    "subnum = 'CC0007'\n",
    "typ = 'wm'\n",
    "basedir='/Users/zeynepenkavi/Downloads/ConteQC'\n",
    "outdir='/Users/zeynepenkavi/Downloads/ConteQC'"
   ]
  },
  {
   "cell_type": "code",
   "execution_count": 4,
   "metadata": {},
   "outputs": [
    {
     "name": "stdout",
     "output_type": "stream",
     "text": [
      "Extracting unedited files complete.\n"
     ]
    }
   ],
   "source": [
    "# Check if original zip exists. If not print error and quit\n",
    "exists = path.isfile(path.join(basedir, 'sub-'+subnum+'.zip'))\n",
    "if not exists:\n",
    "    print(\"Unedited images not found in directory. Quitting...\")\n",
    "    try:\n",
    "        sys.exit()\n",
    "    except SystemExit:\n",
    "        print(\"Quit because difference images cannot be calculated without unedited images.\")\n",
    "else:\n",
    "    # Unzip unedited images of potential interest\n",
    "    toExtract = ['brainmask.mgz', 'wm.mgz', 'brain.finalsurfs.mgz']\n",
    "    suffix = path.join('sub-'+subnum, 'mri')\n",
    "    toExtract = [path.join(suffix, s) for s in toExtract]\n",
    "    with ZipFile(path.join(basedir, 'sub-'+subnum+'.zip'), 'r') as zipObj:\n",
    "        # Get a list of all archived file names from the zip\n",
    "        listOfFileNames = zipObj.namelist()\n",
    "        # Iterate over the file names\n",
    "        for fileName in listOfFileNames:\n",
    "            # Check filename endswith csv\n",
    "            if fileName in toExtract:\n",
    "                # Extract a single file from zip\n",
    "                zipObj.extract(fileName, path.join(basedir, 'sub-'+subnum+'_unedited'))\n",
    "    print(\"Extracting unedited files complete.\")"
   ]
  },
  {
   "cell_type": "code",
   "execution_count": 5,
   "metadata": {},
   "outputs": [],
   "source": [
    "editp = path.join(basedir, 'sub-'+subnum)\n",
    "uneditp = path.join(basedir, 'sub-'+subnum+'_unedited')\n",
    "typ_dict = {'bm': 'brainmask', 'wm': 'wm', 'bfs': 'brain.finalsurfs', 'cp': 'control.dat'}\n",
    "vol = typ_dict[typ]"
   ]
  },
  {
   "cell_type": "code",
   "execution_count": 6,
   "metadata": {},
   "outputs": [],
   "source": [
    "if vol == \"brain.finalsurfs\":\n",
    "    edit_img = nib.load(path.join(editp,'mri/%s.manedit.mgz')%(vol))\n",
    "else:\n",
    "    edit_img = nib.load(path.join(editp,'mri/%s.mgz')%(vol))\n",
    "\n",
    "edit_data = edit_img.get_fdata()\n",
    "unedit_img = nib.load(path.join(uneditp,'sub-%s/mri/%s.mgz')%(subnum, vol))\n",
    "unedit_data = unedit_img.get_fdata()\n",
    "diff_data = unedit_data - edit_data"
   ]
  },
  {
   "cell_type": "code",
   "execution_count": 14,
   "metadata": {},
   "outputs": [],
   "source": [
    "diffp = path.join(basedir, 'sub-'+subnum+'_diff')\n",
    "if not os.path.exists(diffp):\n",
    "    os.makedirs(diffp)\n",
    "diff_img = nib.MGHImage(diff_data.astype(np.int32), edit_img.affine)\n",
    "nib.save(diff_img, os.path.join(diffp, 'diff_%s.mgz')%(vol))"
   ]
  },
  {
   "cell_type": "code",
   "execution_count": 11,
   "metadata": {},
   "outputs": [
    {
     "data": {
      "text/plain": [
       "array([ -1.,   0.,  93.,  95.,  96.,  97.,  98., 100., 101., 102., 103.])"
      ]
     },
     "execution_count": 11,
     "metadata": {},
     "output_type": "execute_result"
    }
   ],
   "source": [
    "np.unique(diff_data)"
   ]
  },
  {
   "cell_type": "code",
   "execution_count": null,
   "metadata": {},
   "outputs": [],
   "source": []
  }
 ],
 "metadata": {
  "kernelspec": {
   "display_name": "Python 3",
   "language": "python",
   "name": "python3"
  },
  "language_info": {
   "codemirror_mode": {
    "name": "ipython",
    "version": 3
   },
   "file_extension": ".py",
   "mimetype": "text/x-python",
   "name": "python",
   "nbconvert_exporter": "python",
   "pygments_lexer": "ipython3",
   "version": "3.7.2"
  }
 },
 "nbformat": 4,
 "nbformat_minor": 4
}
