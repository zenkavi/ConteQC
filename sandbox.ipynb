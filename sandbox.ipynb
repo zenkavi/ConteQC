{
 "cells": [
  {
   "cell_type": "code",
   "execution_count": 1,
   "metadata": {},
   "outputs": [],
   "source": [
    "import nibabel as nib\n",
    "import os\n",
    "from os import path\n",
    "import numpy as np"
   ]
  },
  {
   "cell_type": "code",
   "execution_count": 2,
   "metadata": {},
   "outputs": [],
   "source": [
    "subnum = 'sub-CC0007'\n",
    "editp = '/Users/zeynepenkavi/Downloads/ConteQC/pass0_edits'\n",
    "uneditp = '/Users/zeynepenkavi/Downloads/ConteQC/pass0'"
   ]
  },
  {
   "cell_type": "code",
   "execution_count": 6,
   "metadata": {},
   "outputs": [],
   "source": [
    "vols = [i for i in os.listdir(path.join(editp, subnum)) if i.endswith('.mgz')]"
   ]
  },
  {
   "cell_type": "code",
   "execution_count": 8,
   "metadata": {},
   "outputs": [],
   "source": [
    "for vol in vols:\n",
    "\n",
    "    edit_img = nib.load(path.join(editp,'%s/%s')%(subnum, vol))\n",
    "    edit_data = edit_img.get_fdata()\n",
    "    unedit_img = nib.load(path.join(uneditp,'%s/mri/%s')%(subnum, vol))\n",
    "    unedit_data = unedit_img.get_fdata()\n",
    "    diff_data = unedit_data - edit_data\n",
    "\n",
    "\n",
    "    diff_img = nib.MGHImage(diff_data.astype(np.int32), edit_img.affine)\n",
    "    nib.save(diff_img, os.path.join(editp, subnum,'diff_%s')%(vol))"
   ]
  },
  {
   "cell_type": "code",
   "execution_count": null,
   "metadata": {},
   "outputs": [],
   "source": []
  }
 ],
 "metadata": {
  "kernelspec": {
   "display_name": "Python 3",
   "language": "python",
   "name": "python3"
  },
  "language_info": {
   "codemirror_mode": {
    "name": "ipython",
    "version": 3
   },
   "file_extension": ".py",
   "mimetype": "text/x-python",
   "name": "python",
   "nbconvert_exporter": "python",
   "pygments_lexer": "ipython3",
   "version": "3.7.2"
  }
 },
 "nbformat": 4,
 "nbformat_minor": 4
}
