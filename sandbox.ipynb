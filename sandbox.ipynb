{
 "cells": [
  {
   "cell_type": "code",
   "execution_count": 1,
   "metadata": {},
   "outputs": [],
   "source": [
    "import nibabel as nib\n",
    "import numpy as np\n",
    "import os\n",
    "from os import path\n",
    "import pandas as pd\n",
    "from scipy.spatial import distance_matrix\n",
    "from sklearn.cluster import DBSCAN\n",
    "import sys\n",
    "from zipfile import ZipFile"
   ]
  },
  {
   "cell_type": "code",
   "execution_count": null,
   "metadata": {},
   "outputs": [],
   "source": [
    "from fsedit_notes_helpers import get_diff_data, summarize_edits, get_bm_edits, get_wm_edits, get_cp_edits, get_bfs_edits"
   ]
  },
  {
   "cell_type": "code",
   "execution_count": 2,
   "metadata": {},
   "outputs": [],
   "source": [
    "subnum = 'CC0142'\n",
    "typ = 'bm'\n",
    "basedir='/Users/zeynepenkavi/Downloads/ConteQC'\n",
    "outdir='/Users/zeynepenkavi/Downloads/ConteQC'"
   ]
  },
  {
   "cell_type": "code",
   "execution_count": 3,
   "metadata": {},
   "outputs": [],
   "source": [
    "editp = path.join(basedir, 'sub-'+subnum)\n",
    "uneditp = path.join(basedir, 'sub-'+subnum+'_unedited')\n",
    "typ_dict = {'bm': 'brainmask', 'wm': 'wm', 'bfs': 'brain.finalsurfs', 'cp': 'control.dat'}\n",
    "vol = typ_dict[typ]"
   ]
  },
  {
   "cell_type": "code",
   "execution_count": 27,
   "metadata": {},
   "outputs": [],
   "source": [
    "typ = \"wm\"\n",
    "vol = typ_dict[typ]"
   ]
  },
  {
   "cell_type": "code",
   "execution_count": 28,
   "metadata": {},
   "outputs": [],
   "source": [
    "edit_img = nib.load(path.join(editp,'mri/%s.mgz')%(vol))\n",
    "edit_data = edit_img.get_fdata()\n",
    "unedit_img = nib.load(path.join(uneditp,'mri/%s.mgz')%(vol))\n",
    "unedit_data = unedit_img.get_fdata()\n",
    "diff_data = unedit_data - edit_data"
   ]
  },
  {
   "cell_type": "code",
   "execution_count": 29,
   "metadata": {},
   "outputs": [],
   "source": [
    "diffp = path.join(basedir, 'sub-'+subnum+'_diff')\n",
    "#aff = np.round(unedit_img.affine, 3)\n",
    "diff_img = nib.MGHImage(diff_data.astype(np.uint8), unedit_img.affine)"
   ]
  },
  {
   "cell_type": "code",
   "execution_count": 30,
   "metadata": {},
   "outputs": [],
   "source": [
    "nib.save(diff_img, '%s/diff_%s.mgz'%(diffp, vol))"
   ]
  },
  {
   "cell_type": "code",
   "execution_count": 33,
   "metadata": {},
   "outputs": [
    {
     "data": {
      "text/plain": [
       "35235.0"
      ]
     },
     "execution_count": 33,
     "metadata": {},
     "output_type": "execute_result"
    }
   ],
   "source": [
    "sum(sum(sum(diff_data)))"
   ]
  },
  {
   "cell_type": "code",
   "execution_count": null,
   "metadata": {},
   "outputs": [],
   "source": [
    "typ = \"wm\"\n",
    "vol = typ_dict[typ]\n",
    "get_wm_edits(editp, uneditp, vol, subnum)"
   ]
  },
  {
   "cell_type": "code",
   "execution_count": null,
   "metadata": {},
   "outputs": [],
   "source": [
    "tmp = get_diff_data(editp, uneditp, vol, subnum)\n",
    "cur_diff_data = tmp.query(\"Action=='add voxel'\")"
   ]
  },
  {
   "cell_type": "code",
   "execution_count": null,
   "metadata": {},
   "outputs": [],
   "source": [
    "cur_diff_data"
   ]
  },
  {
   "cell_type": "code",
   "execution_count": null,
   "metadata": {},
   "outputs": [],
   "source": [
    "dm = distance_matrix(cur_diff_data.loc[:,('Sag', 'Axe', 'Cor')], cur_diff_data.loc[:,('Sag', 'Axe', 'Cor')])"
   ]
  },
  {
   "cell_type": "code",
   "execution_count": null,
   "metadata": {},
   "outputs": [],
   "source": [
    "clustering = DBSCAN(eps=50, min_samples=5).fit(dm)"
   ]
  },
  {
   "cell_type": "code",
   "execution_count": null,
   "metadata": {},
   "outputs": [],
   "source": [
    "list(clustering.labels_)"
   ]
  },
  {
   "cell_type": "code",
   "execution_count": null,
   "metadata": {},
   "outputs": [],
   "source": [
    "#cur_diff_data['cluster'] = list(clustering.labels_)\n",
    "cur_diff_data.insert(0, \"cluster\", list(clustering.labels_), True)"
   ]
  },
  {
   "cell_type": "code",
   "execution_count": null,
   "metadata": {},
   "outputs": [],
   "source": [
    "cur_diff_data"
   ]
  },
  {
   "cell_type": "code",
   "execution_count": null,
   "metadata": {},
   "outputs": [],
   "source": [
    "summarize_edits(tmp)"
   ]
  },
  {
   "cell_type": "code",
   "execution_count": null,
   "metadata": {},
   "outputs": [],
   "source": [
    "get_bm_edits(editp, uneditp, vol, subnum)"
   ]
  },
  {
   "cell_type": "code",
   "execution_count": null,
   "metadata": {},
   "outputs": [],
   "source": [
    "typ = \"cp\"\n",
    "vol = typ_dict[typ]\n",
    "get_cp_edits(editp, uneditp, vol, subnum)"
   ]
  },
  {
   "cell_type": "code",
   "execution_count": null,
   "metadata": {},
   "outputs": [],
   "source": [
    "typ = \"bfs\"\n",
    "vol = typ_dict[typ]\n",
    "get_bfs_edits(editp, uneditp, vol, subnum)"
   ]
  },
  {
   "cell_type": "code",
   "execution_count": null,
   "metadata": {},
   "outputs": [],
   "source": [
    "fn_dict = {'bm': get_bm_edits, 'wm': get_wm_edits, 'cp': get_cp_edits, 'bfs': get_bfs_edits}\n",
    "typ = \"all\"\n",
    "if typ == 'all':\n",
    "    out = pd.DataFrame()\n",
    "    # loop through function lookup dictionary and run all edit extraction functions\n",
    "    for k,v in fn_dict.items():\n",
    "        vol = typ_dict[k]\n",
    "        out = out.append(v(editp=editp, uneditp=uneditp, vol=vol, subnum=subnum))"
   ]
  },
  {
   "cell_type": "code",
   "execution_count": null,
   "metadata": {},
   "outputs": [],
   "source": [
    "pd.set_option('display.max_rows', None)"
   ]
  },
  {
   "cell_type": "code",
   "execution_count": null,
   "metadata": {},
   "outputs": [],
   "source": [
    "out"
   ]
  },
  {
   "cell_type": "code",
   "execution_count": null,
   "metadata": {},
   "outputs": [],
   "source": [
    "import shutil"
   ]
  },
  {
   "cell_type": "code",
   "execution_count": null,
   "metadata": {},
   "outputs": [],
   "source": [
    "from os import path"
   ]
  },
  {
   "cell_type": "code",
   "execution_count": null,
   "metadata": {},
   "outputs": [],
   "source": [
    "subnum = 'CC0076_core1'\n",
    "basedir='/Users/zeynepenkavi/Downloads/ConteQC'\n",
    "uneditp = path.join(basedir, 'sub-'+subnum+'_unedited')\n",
    "shutil.rmtree(uneditp)"
   ]
  },
  {
   "cell_type": "markdown",
   "metadata": {},
   "source": [
    "To do still: \n",
    "\n",
    "next step i need to do: \n",
    "refine previous editsm  \n",
    "\n",
    "can this be useful for that?  \n",
    "could at least run all subjects through this and see if i've missed writing down any edits i've made  \n",
    "\n",
    "how should i go about refining edits?\n",
    "go over mike's reports and compare for each subject how different i am from dorit/mike\n",
    "run their edited images (taken from box) through \n",
    "\n",
    "so timeline:  \n",
    "run all subjects through this and see if you've missed recording any edits\n",
    "move onto refinement of previous edits:\n",
    "    -download dorit's edits from box and make difference images for \n",
    "    -overlay original, my edits difference image, dorit's difference image in freeview and scroll through\n",
    "move onto editing new subjects"
   ]
  },
  {
   "cell_type": "code",
   "execution_count": null,
   "metadata": {},
   "outputs": [],
   "source": []
  }
 ],
 "metadata": {
  "kernelspec": {
   "display_name": "Python 3",
   "language": "python",
   "name": "python3"
  },
  "language_info": {
   "codemirror_mode": {
    "name": "ipython",
    "version": 3
   },
   "file_extension": ".py",
   "mimetype": "text/x-python",
   "name": "python",
   "nbconvert_exporter": "python",
   "pygments_lexer": "ipython3",
   "version": "3.7.2"
  }
 },
 "nbformat": 4,
 "nbformat_minor": 4
}
